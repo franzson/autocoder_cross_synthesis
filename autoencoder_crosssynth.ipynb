{
  "cells": [
    {
      "cell_type": "markdown",
      "metadata": {
        "id": "7AZ_EHaNdx18"
      },
      "source": [
        "#'CROSS-SYNTHESIS' VIA AUTOCODER\n"
      ]
    },
    {
      "cell_type": "markdown",
      "metadata": {
        "id": "9Vwzyqugew8k"
      },
      "source": [
        "Open this notebook in [Google Colab](https://colab.research.google.com). You can do this by using the Chrome plugin [Open in Colab](https://chrome.google.com/webstore/detail/open-in-colab/iogfkhleblhcpcekbiedikdehleodpjo),<br>\n",
        "or by downloading it from github and uploading it into colab.<br><br>\n",
        "Make sure to set the runtime type to GPU (Runtime->Change Runtime Type) or training will take<br>an enternity.<br><br>\n",
        "You can run each code section by pressing the play button which shows up when you hover over the<br> two brackets with/without a number on the top left of the codebox.\n",
        "<br><br>\n",
        "This is no way an actual cross synthesis. It simply trains a model on two soundfiles and fits the <br>latent space of the modulator onto the latent space of the carrier, using the phase of the modulator <br>for resynthesis.\n",
        "<br><br> This works well with a drumloop for modulator and a short fragment of a harmonic sound for carrier."
      ]
    },
    {
      "cell_type": "markdown",
      "metadata": {
        "id": "0yh5isLW9KlD"
      },
      "source": [
        "#1. UPLOAD TWO SOUNDFILES\n",
        "Click on the folder icon on the left to expand the file browser and drag and drop a sound-file there.<br>Then edit the filename below to match the uploaded file. Make sure that the file finishes uploading<br> before continuing. The first one is the modulator and the second the carrier."
      ]
    },
    {
      "cell_type": "code",
      "execution_count": null,
      "metadata": {
        "id": "QdYCXKCkEspX"
      },
      "outputs": [],
      "source": [
        "filename_1 = \"modulator.wav\"\n",
        "filename_2 = \"carrier.wav\"\n"
      ]
    },
    {
      "cell_type": "markdown",
      "metadata": {
        "id": "3HeW8mtOEGgv"
      },
      "source": [
        "#2. SELECT ONE OF THE FOLLOWING TO SET THE TRAINING PARAMETERS\n",
        "Some of these presets may not produce usable models with specific datasets\n",
        "so some patience <br>and experimentation may be needed. More training is not always better and some data-sets may<br> need different (lower) values for regression patience to avoid artifacting.<br>"
      ]
    },
    {
      "cell_type": "code",
      "execution_count": null,
      "metadata": {
        "id": "GEMYA5lGD8mW"
      },
      "outputs": [],
      "source": [
        "# LOW QUALITY - TRAINING TIME ROUGHLY .8x DURATION – GOOD ENOUGH FOR EXPLORATION\n",
        "batch_size = 1024\n",
        "regression_patience = 200\n",
        "learning_rate = .0001\n",
        "min_delta = .00001\n",
        "quality = \"low\""
      ]
    },
    {
      "cell_type": "code",
      "execution_count": null,
      "metadata": {
        "id": "KCCsEuFlEAs4"
      },
      "outputs": [],
      "source": [
        "# MEDIUM QUALITY – TRAINING TIME ROUGHLY 3x DURATION – GOOD ENOUGH FOR MOST THINGS\n",
        "batch_size = 512\n",
        "regression_patience = 500\n",
        "learning_rate = .0001\n",
        "min_delta = .00001\n",
        "quality = \"medium\""
      ]
    },
    {
      "cell_type": "code",
      "execution_count": null,
      "metadata": {
        "id": "qlv8LCsBEFln"
      },
      "outputs": [],
      "source": [
        "# HIGH QUALITY – TRAINING TIME ROUGHLY 5x DURATION\n",
        "batch_size = 256\n",
        "regression_patience = 1000 \n",
        "learning_rate = .0001\n",
        "min_delta = .00001\n",
        "quality = \"high\""
      ]
    },
    {
      "cell_type": "code",
      "execution_count": null,
      "metadata": {
        "id": "i740qfrW1lIj"
      },
      "outputs": [],
      "source": [
        "# EXTREME QUALITY – TRAINING TAKES A VERY LONG TIME\n",
        "batch_size = 256\n",
        "regression_patience = 10000000\n",
        "learning_rate = .0001\n",
        "min_delta = 0\n",
        "quality = \"extreme\""
      ]
    },
    {
      "cell_type": "markdown",
      "metadata": {
        "id": "H001mLLR0PoR"
      },
      "source": [
        "#3. RUN THE CODE\n",
        "Depending on the training settings selected above, this can take anywhere from\n",
        ".5x to 5x or more<br> of the duration of the input file so be patient."
      ]
    },
    {
      "cell_type": "markdown",
      "source": [
        ""
      ],
      "metadata": {
        "id": "yh9ETcW6iwr3"
      }
    },
    {
      "cell_type": "markdown",
      "metadata": {
        "id": "RSwU5HYYfk_a"
      },
      "source": [
        "<-- You can download the model as a zip filename.wav-resynth.wav from the file browser on the left."
      ]
    }
  ],
  "metadata": {
    "accelerator": "GPU",
    "colab": {
      "collapsed_sections": [],
      "name": "autoencoder_merge_test.ipynb",
      "provenance": []
    },
    "kernelspec": {
      "display_name": "Python 3",
      "name": "python3"
    },
    "language_info": {
      "name": "python"
    }
  },
  "nbformat": 4,
  "nbformat_minor": 0
}